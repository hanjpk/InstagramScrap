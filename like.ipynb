{
 "cells": [
  {
   "cell_type": "code",
   "execution_count": null,
   "metadata": {},
   "outputs": [],
   "source": [
    "from time import sleep\n",
    "from selenium import webdriver\n",
    "from selenium.webdriver.common.by import By\n",
    "from selenium.webdriver.common.keys import Keys\n",
    "\n",
    "post_link = input('masukkan link postingan, setelah ini silakan login')\n",
    "\n",
    "browser = webdriver.Chrome(r\"D:\\P\\Phyton\\chromedriver.exe\")\n",
    "browser.get(post_link+'liked_by/')\n",
    "sleep(4)\n",
    "browser.find_element(By.XPATH, '//*[@id=\"loginForm\"]/div/div[1]/div/label/input').send_keys('akunnyobademo')\n",
    "browser.find_element(By.XPATH, '//*[@id=\"loginForm\"]/div/div[2]/div/label/input').send_keys('Pandak2018')\n",
    "sleep(2)\n",
    "browser.find_element(By.XPATH, '//*[@id=\"loginForm\"]/div/div[3]/button').click()"
   ]
  },
  {
   "cell_type": "code",
   "execution_count": 3,
   "metadata": {},
   "outputs": [],
   "source": [
    "from selenium.webdriver.support.ui import WebDriverWait\n",
    "wait = WebDriverWait(browser, 30)\n",
    "from selenium.webdriver.support import expected_conditions as EC\n",
    "\n",
    "SCROLL_PAUSE_TIME = 0.5\n",
    "\n",
    "# Get scroll height\n",
    "last_height = browser.execute_script(\"return document.body.scrollHeight\")\n",
    "\n",
    "while True:\n",
    "    # Scroll down to bottom\n",
    "    browser.execute_script(\"window.scrollTo(0, document.body.scrollHeight);\")\n",
    "\n",
    "    # Wait to load page\n",
    "    sleep(SCROLL_PAUSE_TIME)\n",
    "\n",
    "    # Calculate new scroll height and compare with last scroll height\n",
    "    new_height = browser.execute_script(\"return document.body.scrollHeight\")\n",
    "    if new_height == last_height:\n",
    "        break\n",
    "    last_height = new_height"
   ]
  },
  {
   "cell_type": "code",
   "execution_count": null,
   "metadata": {},
   "outputs": [],
   "source": [
    "id_like = input('masukkan XPATH...')\n",
    "for i in range(1,20000):\n",
    "    strs = '//*[@id='\n",
    "    strs3 = ']/div/div/div/div[1]/div/div/div/div[1]/div[1]/section/main/div[1]/div/div['\n",
    "    strs2 = ']/div[2]'\n",
    "    blocks = browser.find_element(By.XPATH, strs + id_like + strs3 + str(i) + strs2).text\n",
    "    print (blocks)"
   ]
  }
 ],
 "metadata": {
  "kernelspec": {
   "display_name": "Python 3.10.2 64-bit",
   "language": "python",
   "name": "python3"
  },
  "language_info": {
   "codemirror_mode": {
    "name": "ipython",
    "version": 3
   },
   "file_extension": ".py",
   "mimetype": "text/x-python",
   "name": "python",
   "nbconvert_exporter": "python",
   "pygments_lexer": "ipython3",
   "version": "3.10.2"
  },
  "orig_nbformat": 4,
  "vscode": {
   "interpreter": {
    "hash": "0d72b21489300652f2337cd7f80c57cc00ce6bbc92cf98d285c178d0a8ced433"
   }
  }
 },
 "nbformat": 4,
 "nbformat_minor": 2
}
