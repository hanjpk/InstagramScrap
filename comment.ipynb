{
 "cells": [
  {
   "cell_type": "code",
   "execution_count": null,
   "metadata": {},
   "outputs": [],
   "source": [
    "from time import sleep\n",
    "from selenium import webdriver\n",
    "from selenium.webdriver.common.by import By\n",
    "from selenium.webdriver.common.keys import Keys\n",
    "\n",
    "post_link = input('masukkan link postingan, setelah ini silakan login')\n",
    "\n",
    "browser = webdriver.Chrome(r\"D:\\P\\Phyton\\chromedriver.exe\")\n",
    "browser.get(post_link+'liked_by/')\n",
    "sleep(4)\n",
    "browser.find_element(By.XPATH, '//*[@id=\"loginForm\"]/div/div[1]/div/label/input').send_keys('akunnyobademo')\n",
    "browser.find_element(By.XPATH, '//*[@id=\"loginForm\"]/div/div[2]/div/label/input').send_keys('Pandak2018')\n",
    "sleep(2)\n",
    "browser.find_element(By.XPATH, '//*[@id=\"loginForm\"]/div/div[3]/button').click()"
   ]
  },
  {
   "cell_type": "code",
   "execution_count": 2,
   "metadata": {},
   "outputs": [],
   "source": [
    "browser.get(post_link)\n",
    "id_com = input('masukkan XPATH...')\n",
    "while True:\n",
    "    try:\n",
    "        strr1 = '//*[@id='\n",
    "        strr2 = ']/div/div/div/div[1]/div/div/div/div[1]/div[1]/section/main/div[1]/div[1]/article/div/div[2]/div/div[2]/div[1]/ul/li/div'\n",
    "\n",
    "        browser.find_element(By.XPATH, strr1 + id_com + strr2).click()\n",
    "        \n",
    "    except:\n",
    "        break"
   ]
  },
  {
   "cell_type": "code",
   "execution_count": null,
   "metadata": {},
   "outputs": [],
   "source": [
    "from msilib.schema import Error\n",
    "\n",
    "\n",
    "for j in range(1,1000):\n",
    "    str1 = '//*[@id='\n",
    "    str2 = ']/div/div/div/div[1]/div/div/div/div[1]/div[1]/section/main/div[1]/div[1]/article/div/div[2]/div/div[2]/div[1]/ul/ul['\n",
    "    str3 = ']/div/li/div/div/div[2]/h3/div/span/a'\n",
    "    \n",
    "    comment_u = browser.find_element(By.XPATH, str1 + id_com + str2 + str(j) + str3).text\n",
    "    print(comment_u)"
   ]
  }
 ],
 "metadata": {
  "kernelspec": {
   "display_name": "Python 3.10.2 64-bit",
   "language": "python",
   "name": "python3"
  },
  "language_info": {
   "codemirror_mode": {
    "name": "ipython",
    "version": 3
   },
   "file_extension": ".py",
   "mimetype": "text/x-python",
   "name": "python",
   "nbconvert_exporter": "python",
   "pygments_lexer": "ipython3",
   "version": "3.10.2"
  },
  "orig_nbformat": 4,
  "vscode": {
   "interpreter": {
    "hash": "0d72b21489300652f2337cd7f80c57cc00ce6bbc92cf98d285c178d0a8ced433"
   }
  }
 },
 "nbformat": 4,
 "nbformat_minor": 2
}
