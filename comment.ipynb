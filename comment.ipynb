{
 "cells": [
  {
   "cell_type": "code",
   "execution_count": null,
   "metadata": {},
   "outputs": [],
   "source": [
    "#untuk pertama kali run, jangan gunakan block kedua\n",
    "#jadi: block pertama-ketiga-keempat\n",
    "\n",
    "from time import sleep\n",
    "from selenium import webdriver\n",
    "from selenium.webdriver.common.by import By\n",
    "from selenium.webdriver.common.keys import Keys\n",
    "\n",
    "#di bawah ini suruh masukin link, nah kita cari dulu link yg mau di-scrap \n",
    "#misal: https://www.instagram.com/p/Ch5w8fFhN7b/\n",
    "post_link = input('masukkan link postingan, setelah ini silakan login')\n",
    "\n",
    "#jangan lupa ganti lokasi chromedrivernya\n",
    "browser = webdriver.Chrome(r\"C:\\Users\\ACER\\Desktop\\cyberteam\\chromedriver.exe\")\n",
    "browser.get(post_link+'liked_by/')\n",
    "sleep(3)\n",
    "browser.find_element(By.XPATH, '//*[@id=\"loginForm\"]/div/div[1]/div/label/input').send_keys('katanyacyber')\n",
    "browser.find_element(By.XPATH, '//*[@id=\"loginForm\"]/div/div[2]/div/label/input').send_keys('n4s1g0r3ngb4b4t')\n",
    "sleep(2)\n",
    "browser.find_element(By.XPATH, '//*[@id=\"loginForm\"]/div/div[3]/button').click()\n",
    "sleep(2)\n",
    "browser.get(post_link)"
   ]
  },
  {
   "cell_type": "code",
   "execution_count": 2,
   "metadata": {},
   "outputs": [],
   "source": [
    "#gunakan kode ini hanya jika ingin mengulang scrap agar tidak perlu login kembali\n",
    "#jika baru pertama kali di-run, lewati block ini!!\n",
    "\n",
    "browser.get(input('masukkan link postingan, setelah ini silakan login'))"
   ]
  },
  {
   "cell_type": "code",
   "execution_count": 15,
   "metadata": {},
   "outputs": [],
   "source": [
    "#block code ini berfungsi untuk scroll page sampai bawah, agar data termuat semua\n",
    "\n",
    "id_com = input('masukkan XPATH...')\n",
    "while True:\n",
    "    try:\n",
    "        strr1 = '//*[@id='\n",
    "        strr2 = ']/div/div/div/div[1]/div/div/div/div[1]/div[1]/section/main/div[1]/div[1]/article/div/div[2]/div/div[2]/div[1]/ul/li/div'\n",
    "\n",
    "        browser.find_element(By.XPATH, strr1 + id_com + strr2).click()\n",
    "        \n",
    "    except:\n",
    "        break"
   ]
  },
  {
   "cell_type": "code",
   "execution_count": null,
   "metadata": {},
   "outputs": [],
   "source": [
    "#block code ini berfungsi mengumpulkan data username\n",
    "\n",
    "from msilib.schema import Error\n",
    "\n",
    "for j in range(1,1000):\n",
    "    str1 = '//*[@id='\n",
    "    str2 = ']/div/div/div/div[1]/div/div/div/div[1]/div[1]/section/main/div[1]/div[1]/article/div/div[2]/div/div[2]/div[1]/ul/ul['\n",
    "    str3 = ']/div/li/div/div/div[2]/h3/div/span/a'\n",
    "    \n",
    "    comment_u = browser.find_element(By.XPATH, str1 + id_com + str2 + str(j) + str3).text\n",
    "    print(comment_u)\n",
    "\n",
    "#jika ingin kembali melakukan scrap data untuk postingan lain ada yang harus diperhatikan\n",
    "#lewati block pertama dan gunakan block kedua\n",
    "#jadi block kedua - block ketiga - block keempat"
   ]
  }
 ],
 "metadata": {
  "kernelspec": {
   "display_name": "Python 3.10.2 64-bit",
   "language": "python",
   "name": "python3"
  },
  "language_info": {
   "codemirror_mode": {
    "name": "ipython",
    "version": 3
   },
   "file_extension": ".py",
   "mimetype": "text/x-python",
   "name": "python",
   "nbconvert_exporter": "python",
   "pygments_lexer": "ipython3",
   "version": "3.10.2"
  },
  "orig_nbformat": 4,
  "vscode": {
   "interpreter": {
    "hash": "0d72b21489300652f2337cd7f80c57cc00ce6bbc92cf98d285c178d0a8ced433"
   }
  }
 },
 "nbformat": 4,
 "nbformat_minor": 2
}
